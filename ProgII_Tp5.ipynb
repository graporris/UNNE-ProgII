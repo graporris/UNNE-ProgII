{
  "nbformat": 4,
  "nbformat_minor": 0,
  "metadata": {
    "colab": {
      "provenance": [],
      "authorship_tag": "ABX9TyOgzWgsu+RM6Lnan7iPJma/",
      "include_colab_link": true
    },
    "kernelspec": {
      "name": "python3",
      "display_name": "Python 3"
    },
    "language_info": {
      "name": "python"
    }
  },
  "cells": [
    {
      "cell_type": "markdown",
      "metadata": {
        "id": "view-in-github",
        "colab_type": "text"
      },
      "source": [
        "<a href=\"https://colab.research.google.com/github/graporris/UNNE-ProgII/blob/main/ProgII_Tp5.ipynb\" target=\"_parent\"><img src=\"https://colab.research.google.com/assets/colab-badge.svg\" alt=\"Open In Colab\"/></a>"
      ]
    },
    {
      "cell_type": "code",
      "execution_count": 11,
      "metadata": {
        "colab": {
          "base_uri": "https://localhost:8080/"
        },
        "id": "tQnj42hxxYvp",
        "outputId": "c96e10c2-e344-4e81-d66b-6bf8f2493d1f"
      },
      "outputs": [
        {
          "output_type": "stream",
          "name": "stdout",
          "text": [
            "Cantidad del producto A:5\n",
            "Cantidad del producto B:10\n",
            "Total: $ 675\n",
            "Medio de pago: 0-Efectivo / 1-tarjeta0\n",
            "Total a pagar: $ 607.5\n"
          ]
        }
      ],
      "source": [
        "#Ejercicio 1 y 5\n",
        "prodA = int(input(\"Cantidad del producto A:\"))\n",
        "prodB = int(input(\"Cantidad del producto B:\"))\n",
        "\n",
        "total = prodA * 25 + prodB * 45\n",
        "\n",
        "if total > 500 :\n",
        "    total = total + 100\n",
        "\n",
        "print(f\"Total: $ {total}\")\n",
        "\n",
        "opcion = int(input(\"Medio de pago: 0-Efectivo / 1-tarjeta \"))\n",
        "\n",
        "if opcion == 0 :\n",
        "  total = total * 0.9\n",
        "  print(f\"Total a pagar: $ {total}\")\n",
        "elif opcion == 1 :\n",
        "  total = total * 1.015\n",
        "  print(f\"Total a pagar: $ {total}\")\n",
        "else :\n",
        "    print(\"Opción no válida\")\n",
        "\n",
        "\n"
      ]
    },
    {
      "cell_type": "code",
      "source": [
        "#Ejercicio 2\n",
        "horasTrab = int(input(\"Ingrese las horas trbajadas:\"))\n",
        "\n",
        "salario = horasTrab * 250\n",
        "\n",
        "if horasTrab > 50 :\n",
        "    salario = salario + (horasTrab * 50)\n",
        "\n",
        "print(f\"El salario total es de: $ {salario}\")"
      ],
      "metadata": {
        "colab": {
          "base_uri": "https://localhost:8080/"
        },
        "id": "WAE59M93x0Dj",
        "outputId": "cb5f834b-a70e-4b99-d695-b682e090d971"
      },
      "execution_count": 4,
      "outputs": [
        {
          "output_type": "stream",
          "name": "stdout",
          "text": [
            "Ingrese las horas trbajadas:60\n",
            "El salario total es de: 18000\n"
          ]
        }
      ]
    },
    {
      "cell_type": "code",
      "source": [
        "#Ejercicio 3 y 4\n",
        "\n",
        "legajo = input(\"Ingrese el legajo del alumno:\")\n",
        "\n",
        "nota1 = int(input(\"Ingrese la 1° nota:\"))\n",
        "nota2 = int(input(\"Ingrese la 2° nota:\"))\n",
        "nota3 = int(input(\"Ingrese la 3° nota:\"))\n",
        "asistencia = float(input(\"Ingrese el porcentaje de asistencia:\"))\n",
        "\n",
        "notaPromedio = (nota1 + nota2 + nota3) / 3\n",
        "\n",
        "print(f\"El promedio del alumno con legajo {legajo} es de {notaPromedio}\")\n",
        "\n",
        "if notaPromedio >= 6 and asistencia >= 75:\n",
        "  print(\"Situación del alumno: REGULAR\")\n",
        "else :\n",
        "  print(\"Situación del alumno: LIBRE\")"
      ],
      "metadata": {
        "colab": {
          "base_uri": "https://localhost:8080/"
        },
        "id": "WnFDrvwXyDHV",
        "outputId": "908f04c6-8dcf-4982-e20a-ba44fa3fa121"
      },
      "execution_count": 9,
      "outputs": [
        {
          "output_type": "stream",
          "name": "stdout",
          "text": [
            "Ingrese el legajo del alumno:5565\n",
            "Ingrese la 1° nota:5\n",
            "Ingrese la 2° nota:4\n",
            "Ingrese la 3° nota:6\n",
            "Ingrese el porcentaje de asistencia:81\n",
            "El promedio del alumno con legajo 5565 es de 5.0\n",
            "Situación del alumno: LIBRE\n"
          ]
        }
      ]
    }
  ]
}